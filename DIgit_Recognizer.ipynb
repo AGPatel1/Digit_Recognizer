{
  "cells": [
    {
      "cell_type": "code",
      "execution_count": null,
      "metadata": {
        "id": "AXIrLVLmEFuX"
      },
      "outputs": [],
      "source": [
        "!pip install -q gradio"
      ]
    },
    {
      "cell_type": "code",
      "execution_count": null,
      "metadata": {
        "colab": {
          "base_uri": "https://localhost:8080/"
        },
        "id": "AvV403C1vD2F",
        "outputId": "726aefb6-572c-4cc8-8558-f5eab3a4e91c"
      },
      "outputs": [
        {
          "output_type": "stream",
          "name": "stdout",
          "text": [
            "Downloading data from https://storage.googleapis.com/tensorflow/tf-keras-datasets/mnist.npz\n",
            "11493376/11490434 [==============================] - 0s 0us/step\n",
            "11501568/11490434 [==============================] - 0s 0us/step\n"
          ]
        }
      ],
      "source": [
        "import tensorflow as tf\n",
        "import gradio as gr\n",
        "(x_train, y_train), (x_test, y_test) = tf.keras.datasets.mnist.load_data()\n",
        "x_train = x_train / 255.0,\n",
        "x_test = x_test / 255.0"
      ]
    },
    {
      "cell_type": "code",
      "execution_count": null,
      "metadata": {
        "colab": {
          "base_uri": "https://localhost:8080/"
        },
        "id": "8SU94B87vF6x",
        "outputId": "8a869e03-5857-45fd-ca7e-1e0e39b7e7bf"
      },
      "outputs": [
        {
          "output_type": "stream",
          "name": "stdout",
          "text": [
            "Epoch 1/8\n",
            "1875/1875 [==============================] - 17s 4ms/step - loss: 0.2110 - accuracy: 0.9341 - val_loss: 0.0715 - val_accuracy: 0.9799\n",
            "Epoch 2/8\n",
            "1875/1875 [==============================] - 7s 4ms/step - loss: 0.0742 - accuracy: 0.9772 - val_loss: 0.0770 - val_accuracy: 0.9767\n",
            "Epoch 3/8\n",
            "1875/1875 [==============================] - 7s 4ms/step - loss: 0.0535 - accuracy: 0.9833 - val_loss: 0.0494 - val_accuracy: 0.9851\n",
            "Epoch 4/8\n",
            "1875/1875 [==============================] - 7s 3ms/step - loss: 0.0423 - accuracy: 0.9866 - val_loss: 0.0644 - val_accuracy: 0.9802\n",
            "Epoch 5/8\n",
            "1875/1875 [==============================] - 7s 4ms/step - loss: 0.0350 - accuracy: 0.9887 - val_loss: 0.0513 - val_accuracy: 0.9850\n",
            "Epoch 6/8\n",
            "1875/1875 [==============================] - 6s 3ms/step - loss: 0.0271 - accuracy: 0.9911 - val_loss: 0.0592 - val_accuracy: 0.9841\n",
            "Epoch 7/8\n",
            "1875/1875 [==============================] - 6s 3ms/step - loss: 0.0238 - accuracy: 0.9924 - val_loss: 0.0542 - val_accuracy: 0.9845\n",
            "Epoch 8/8\n",
            "1875/1875 [==============================] - 6s 3ms/step - loss: 0.0183 - accuracy: 0.9942 - val_loss: 0.0791 - val_accuracy: 0.9813\n"
          ]
        },
        {
          "output_type": "execute_result",
          "data": {
            "text/plain": [
              "<keras.callbacks.History at 0x7f61966d6510>"
            ]
          },
          "metadata": {},
          "execution_count": 4
        }
      ],
      "source": [
        "from keras.layers import Conv2D\n",
        "from keras.layers import MaxPooling2D\n",
        "from keras.layers import Flatten\n",
        "from keras.layers import Dense\n",
        "\n",
        "\n",
        "model = tf.keras.models.Sequential()\n",
        "model.add(Conv2D(filters=25, kernel_size=(3, 3), activation='relu', input_shape=(28,28,1)))\n",
        "model.add(MaxPooling2D((2, 2)))\n",
        "model.add(Conv2D(filters=64, kernel_size=(3, 3), activation='relu'))\n",
        "model.add(MaxPooling2D((2, 2)))\n",
        "model.add(Conv2D(filters=64, kernel_size=(3, 3), activation='relu'))\n",
        "model.add(MaxPooling2D((2, 2)))\n",
        "model.add(Flatten())\n",
        "model.add(Dense(64, activation='relu'))\n",
        "model.add(Dense(10, activation='softmax'))\n",
        "\n",
        "model.compile(optimizer='adam', loss='sparse_categorical_crossentropy', metrics=['accuracy'])\n",
        "model.fit(x_train, y_train, validation_data=(x_test, y_test), epochs=8)"
      ]
    },
    {
      "cell_type": "code",
      "execution_count": null,
      "metadata": {
        "id": "MdtuUFut5Dvz"
      },
      "outputs": [],
      "source": [
        "import numpy as np\n",
        "\n",
        "def classify(image):\n",
        "  image = np.expand_dims(image, axis=0)\n",
        "  prediction = model.predict(image).tolist()[0]\n",
        "  return {str(i):prediction[i] for i in range(10)}\n",
        "\n",
        "label = gr.outputs.Label(num_top_classes=1)\n",
        "interface = gr.Interface(classify, 'sketchpad', label, capture_session=True,interpretation=\"default\",title = 'Digit Classifier')\n",
        "interface.launch(debug=True)"
      ]
    },
    {
      "cell_type": "code",
      "execution_count": null,
      "metadata": {
        "id": "v8-lywle5GB8"
      },
      "outputs": [],
      "source": []
    }
  ],
  "metadata": {
    "accelerator": "GPU",
    "colab": {
      "provenance": []
    },
    "kernelspec": {
      "display_name": "Python 3",
      "name": "python3"
    }
  },
  "nbformat": 4,
  "nbformat_minor": 0
}